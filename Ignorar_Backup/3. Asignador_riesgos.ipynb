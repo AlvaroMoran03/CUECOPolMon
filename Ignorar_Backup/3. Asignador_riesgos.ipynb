{
 "cells": [
  {
   "cell_type": "code",
   "execution_count": 1,
   "metadata": {
    "vscode": {
     "languageId": "ruby"
    }
   },
   "outputs": [
    {
     "name": "stdout",
     "output_type": "stream",
     "text": [
      "Última semilla utilizada: 7233\n",
      "{'Grupo 1': [4, 9, 11], 'Grupo 2': [1, 6, 12], 'Grupo 3': [5, 6, 11], 'Grupo 4': [5, 8, 10], 'Grupo 5': [2, 7, 13], 'Grupo 6': [3, 8, 13]}\n"
     ]
    }
   ],
   "source": [
    "import random\n",
    "from collections import Counter\n",
    "\n",
    "# Función para asignar casos a los grupos\n",
    "def asignar_casos(seed=None):\n",
    "    # Set the seed for reproducibility\n",
    "    if seed is not None:\n",
    "        random.seed(seed)\n",
    "\n",
    "    # Grupos\n",
    "    grupos = {f'Grupo {i+1}': [] for i in range(6)}\n",
    "\n",
    "    # Casos\n",
    "    casos_1_5 = list(range(1, 6))\n",
    "    casos_6_9 = list(range(6, 10))\n",
    "    casos_10_13 = list(range(10, 14))\n",
    "\n",
    "    # Relación de opuestos\n",
    "    opuestos = {6: 10, 7: 11, 8: 12, 9: 13, 10: 6, 11: 7, 12: 8, 13: 9}\n",
    "\n",
    "    # Contadores para asegurar que ningún caso se asigne más de dos veces\n",
    "    contador_casos = Counter()\n",
    "\n",
    "    # Asignar casos a los grupos\n",
    "    for grupo in grupos:\n",
    "        # Escoger un caso del 1 al 5\n",
    "        caso_1_5 = random.choice([caso for caso in casos_1_5 if contador_casos[caso] < 2])\n",
    "        grupos[grupo].append(caso_1_5)\n",
    "        contador_casos[caso_1_5] += 1\n",
    "\n",
    "        # Escoger un caso del 6 al 9\n",
    "        caso_6_9 = random.choice([caso for caso in casos_6_9 if contador_casos[caso] < 2])\n",
    "        grupos[grupo].append(caso_6_9)\n",
    "        contador_casos[caso_6_9] += 1\n",
    "\n",
    "        # Eliminar el opuesto del caso escogido del 6 al 9\n",
    "        casos_10_13_filtrados = [caso for caso in casos_10_13 if caso != opuestos[caso_6_9] and contador_casos[caso] < 2]\n",
    "\n",
    "        # Escoger un caso del 10 al 13\n",
    "        caso_10_13 = random.choice(casos_10_13_filtrados)\n",
    "        grupos[grupo].append(caso_10_13)\n",
    "        contador_casos[caso_10_13] += 1\n",
    "\n",
    "    return grupos\n",
    "\n",
    "# Iterar hasta que faltantes esté vacío y no haya más de dos repeticiones por posición\n",
    "while True:\n",
    "    seed_value = random.randint(0, 10000)\n",
    "    seed_value = 7233\n",
    "    grupos = asignar_casos(seed=seed_value)\n",
    "    todos_casos = list(range(1, 14))\n",
    "    asignados = [caso for sublist in grupos.values() for caso in sublist]\n",
    "    faltantes = set(todos_casos) - set(asignados)\n",
    "    if not faltantes:\n",
    "        break\n",
    "    seed_value = random.randint(0, 10000)\n",
    "\n",
    "print(f'Última semilla utilizada: {seed_value}')\n",
    "print(grupos)"
   ]
  },
  {
   "cell_type": "code",
   "execution_count": 2,
   "metadata": {
    "vscode": {
     "languageId": "ruby"
    }
   },
   "outputs": [],
   "source": [
    "import pandas as pd\n",
    "\n",
    "df = pd.DataFrame(data=grupos)\n",
    "df = (df.T)\n",
    "df.to_excel('Asignacion.xlsx')"
   ]
  },
  {
   "cell_type": "code",
   "execution_count": 14,
   "metadata": {
    "vscode": {
     "languageId": "ruby"
    }
   },
   "outputs": [],
   "source": [
    "import os \n",
    "import zipfile \n",
    "from openpyxl import Workbook\n",
    "\n",
    "def crear_zip_con_contraseña(grupos): \n",
    "    for grupo, casos in grupos.items(): \n",
    "        grupo_num = grupo.split()[-1] \n",
    "        zip_filename = f'Grupos/grupo_{grupo_num}.zip'\n",
    "\n",
    "        with zipfile.ZipFile(zip_filename, 'w') as zipf:\n",
    "            for caso in casos:\n",
    "                excel_filename = f'Riesgo/DataTarea_Exogenas_Riesgo{caso}.xlsx'\n",
    "                zipf.write(excel_filename, os.path.basename(excel_filename))\n",
    "    \n",
    "    \n",
    "    \n",
    "crear_zip_con_contraseña(grupos)"
   ]
  }
 ],
 "metadata": {
  "kernelspec": {
   "display_name": "base",
   "language": "python",
   "name": "python3"
  },
  "language_info": {
   "codemirror_mode": {
    "name": "ipython",
    "version": 3
   },
   "file_extension": ".py",
   "mimetype": "text/x-python",
   "name": "python",
   "nbconvert_exporter": "python",
   "pygments_lexer": "ipython3",
   "version": "3.11.5"
  }
 },
 "nbformat": 4,
 "nbformat_minor": 2
}
